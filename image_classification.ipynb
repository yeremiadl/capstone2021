{
  "cells": [
    {
      "cell_type": "code",
      "execution_count": 234,
      "id": "5bf8927c",
      "metadata": {
        "id": "5bf8927c",
        "colab": {
          "base_uri": "https://localhost:8080/"
        },
        "outputId": "7ec97e0d-2d2e-42ea-d245-21346cf662a5"
      },
      "outputs": [
        {
          "output_type": "stream",
          "name": "stdout",
          "text": [
            "rm: cannot remove 'saved_model': No such file or directory\n"
          ]
        }
      ],
      "source": [
        "# !cd training && rm -r Computing\n",
        "#!cd training && rm  .ipynb_checkpoints \n",
        "!rm -r saved_model\n"
      ]
    },
    {
      "cell_type": "code",
      "execution_count": 224,
      "id": "ae729056",
      "metadata": {
        "colab": {
          "base_uri": "https://localhost:8080/"
        },
        "id": "ae729056",
        "outputId": "75188ca2-ce43-4bb2-bd30-81e5d5b360be"
      },
      "outputs": [
        {
          "output_type": "stream",
          "name": "stdout",
          "text": [
            "Looking in indexes: https://pypi.org/simple, https://us-python.pkg.dev/colab-wheels/public/simple/\n",
            "Requirement already satisfied: tensorflow_hub in /usr/local/lib/python3.7/dist-packages (0.12.0)\n",
            "Requirement already satisfied: numpy>=1.12.0 in /usr/local/lib/python3.7/dist-packages (from tensorflow_hub) (1.21.6)\n",
            "Requirement already satisfied: protobuf>=3.8.0 in /usr/local/lib/python3.7/dist-packages (from tensorflow_hub) (3.17.3)\n",
            "Requirement already satisfied: six>=1.9 in /usr/local/lib/python3.7/dist-packages (from protobuf>=3.8.0->tensorflow_hub) (1.15.0)\n"
          ]
        }
      ],
      "source": [
        "# import opendatasets as od\n",
        "import cv2\n",
        "import tensorflow as tf\n",
        "from tensorflow import keras\n",
        "!pip3 install tensorflow_hub\n",
        "import tensorflow_hub as hub\n",
        "import numpy as np\n",
        "import matplotlib.pyplot as plt\n",
        "import os\n",
        "# od.download(\"https://www.kaggle.com/datasets/arkadiyhacks/drinking-waste-classification\")"
      ]
    },
    {
      "cell_type": "code",
      "execution_count": 225,
      "id": "78691c8d",
      "metadata": {
        "id": "78691c8d"
      },
      "outputs": [],
      "source": [
        "# Defining variable\n",
        "data_root = (\"training/\")\n",
        "IMAGE_SHAPE = (224, 224) # (height, width) in no. of pixels\n",
        "TRAINING_DATA_DIR = str(data_root)\n",
        "datagen_kwargs = dict(rescale=1./255, validation_split=.20)"
      ]
    },
    {
      "cell_type": "code",
      "execution_count": 202,
      "id": "a51d6b9a",
      "metadata": {
        "id": "a51d6b9a",
        "outputId": "5e62de65-ef13-4ec6-baa8-3e4d13aea591",
        "colab": {
          "base_uri": "https://localhost:8080/"
        }
      },
      "outputs": [
        {
          "output_type": "stream",
          "name": "stdout",
          "text": [
            "Found 307 images belonging to 2 classes.\n",
            "Found 1232 images belonging to 2 classes.\n"
          ]
        }
      ],
      "source": [
        "# Split the data into validation and training\n",
        "valid_datagen = tf.keras.preprocessing.image.ImageDataGenerator(**datagen_kwargs)\n",
        "valid_generator = valid_datagen.flow_from_directory(\n",
        "TRAINING_DATA_DIR,\n",
        "subset=\"validation\",\n",
        "shuffle=True,\n",
        "target_size=IMAGE_SHAPE\n",
        ")\n",
        "\n",
        "train_datagen = tf.keras.preprocessing.image.ImageDataGenerator(**datagen_kwargs)\n",
        "train_generator = train_datagen.flow_from_directory(\n",
        "TRAINING_DATA_DIR,\n",
        "subset=\"training\",\n",
        "shuffle=True,\n",
        "target_size=IMAGE_SHAPE)"
      ]
    },
    {
      "cell_type": "code",
      "execution_count": 226,
      "id": "accfdd5e",
      "metadata": {
        "id": "accfdd5e",
        "outputId": "b783da6b-3694-430e-e3ab-fdb8dc0b551e",
        "colab": {
          "base_uri": "https://localhost:8080/"
        }
      },
      "outputs": [
        {
          "output_type": "stream",
          "name": "stdout",
          "text": [
            "{'Crime-thriller': 0, 'Technology-Engineering': 1}\n",
            "2\n"
          ]
        }
      ],
      "source": [
        "print (train_generator.class_indices)\n",
        "print(train_generator.num_classes)"
      ]
    },
    {
      "cell_type": "code",
      "execution_count": 227,
      "id": "654c5a0b",
      "metadata": {
        "id": "654c5a0b",
        "outputId": "3ebb033e-caa3-409e-f8a7-28628899ea15",
        "colab": {
          "base_uri": "https://localhost:8080/"
        }
      },
      "outputs": [
        {
          "output_type": "stream",
          "name": "stdout",
          "text": [
            "Crime-thriller\n",
            "Technology-Engineering"
          ]
        }
      ],
      "source": [
        "labels = '\\n'.join(sorted(train_generator.class_indices.keys()))\n",
        "with open('labels.txt', 'w') as f:\n",
        " f.write(labels)\n",
        "!cat labels.txt"
      ]
    },
    {
      "cell_type": "code",
      "source": [
        "dataset_labels = sorted(train_generator.class_indices.items(), key=lambda pair:pair[1])\n",
        "dataset_labels = np.array([key.title() for key, value in dataset_labels])\n",
        "print(dataset_labels)"
      ],
      "metadata": {
        "colab": {
          "base_uri": "https://localhost:8080/"
        },
        "id": "8O94LGzR3Uil",
        "outputId": "075c2416-bb7f-45a0-8024-228ed153bf22"
      },
      "id": "8O94LGzR3Uil",
      "execution_count": 228,
      "outputs": [
        {
          "output_type": "stream",
          "name": "stdout",
          "text": [
            "['Crime-Thriller' 'Technology-Engineering']\n"
          ]
        }
      ]
    },
    {
      "cell_type": "code",
      "execution_count": 229,
      "id": "01dea139",
      "metadata": {
        "id": "01dea139",
        "outputId": "dfd8e895-5cfb-4987-a9c0-f937fd163d42",
        "colab": {
          "base_uri": "https://localhost:8080/"
        }
      },
      "outputs": [
        {
          "output_type": "stream",
          "name": "stdout",
          "text": [
            "Model: \"sequential_17\"\n",
            "_________________________________________________________________\n",
            " Layer (type)                Output Shape              Param #   \n",
            "=================================================================\n",
            " keras_layer_15 (KerasLayer)  (None, 1280)             2257984   \n",
            "                                                                 \n",
            " dropout_15 (Dropout)        (None, 1280)              0         \n",
            "                                                                 \n",
            " dense_19 (Dense)            (None, 2)                 2562      \n",
            "                                                                 \n",
            "=================================================================\n",
            "Total params: 2,260,546\n",
            "Trainable params: 2,562\n",
            "Non-trainable params: 2,257,984\n",
            "_________________________________________________________________\n"
          ]
        }
      ],
      "source": [
        "model = tf.keras.Sequential([\n",
        " hub.KerasLayer('https://tfhub.dev/google/tf2-preview/mobilenet_v2/feature_vector/4', \n",
        " output_shape=[1280],\n",
        " trainable=False),\n",
        " tf.keras.layers.Dropout(0.4),\n",
        " tf.keras.layers.Dense(train_generator.num_classes, activation='softmax')\n",
        "])\n",
        "model.build([None, 224, 224, 3])\n",
        "model.summary()"
      ]
    },
    {
      "cell_type": "code",
      "execution_count": 235,
      "id": "7c250243",
      "metadata": {
        "id": "7c250243",
        "outputId": "2cccefc0-6ac2-4741-c35f-f693eab5aef9",
        "colab": {
          "base_uri": "https://localhost:8080/"
        }
      },
      "outputs": [
        {
          "output_type": "stream",
          "name": "stderr",
          "text": [
            "/usr/local/lib/python3.7/dist-packages/keras/optimizer_v2/adam.py:105: UserWarning: The `lr` argument is deprecated, use `learning_rate` instead.\n",
            "  super(Adam, self).__init__(name, **kwargs)\n"
          ]
        }
      ],
      "source": [
        "optimizer = tf.keras.optimizers.Adam(lr=1e-3)\n",
        "model.compile(\n",
        " optimizer=optimizer,\n",
        " loss='categorical_crossentropy',\n",
        " metrics=['acc'])"
      ]
    },
    {
      "cell_type": "code",
      "source": [
        "model.compile(\n",
        "  optimizer=tf.keras.optimizers.Adam(),\n",
        "  loss='categorical_crossentropy',\n",
        "  metrics=['acc'])"
      ],
      "metadata": {
        "id": "yBMwKGNE3nSa"
      },
      "id": "yBMwKGNE3nSa",
      "execution_count": 236,
      "outputs": []
    },
    {
      "cell_type": "code",
      "execution_count": 237,
      "id": "a9e7aa28",
      "metadata": {
        "id": "a9e7aa28",
        "outputId": "d777dadc-170b-4e82-ff86-6ec940e76c96",
        "colab": {
          "base_uri": "https://localhost:8080/"
        }
      },
      "outputs": [
        {
          "output_type": "stream",
          "name": "stdout",
          "text": [
            "Epoch 1/15\n",
            "39/39 [==============================] - 48s 1s/step - loss: 0.7935 - acc: 0.6282 - val_loss: 0.6003 - val_acc: 0.7231\n",
            "Epoch 2/15\n",
            "39/39 [==============================] - 43s 1s/step - loss: 0.5674 - acc: 0.7476 - val_loss: 0.5335 - val_acc: 0.7101\n",
            "Epoch 3/15\n",
            "39/39 [==============================] - 44s 1s/step - loss: 0.5337 - acc: 0.7484 - val_loss: 0.5196 - val_acc: 0.7362\n",
            "Epoch 4/15\n",
            "39/39 [==============================] - 45s 1s/step - loss: 0.4702 - acc: 0.7890 - val_loss: 0.5111 - val_acc: 0.7427\n",
            "Epoch 5/15\n",
            "39/39 [==============================] - 45s 1s/step - loss: 0.4731 - acc: 0.7914 - val_loss: 0.5070 - val_acc: 0.7329\n",
            "Epoch 6/15\n",
            "39/39 [==============================] - 43s 1s/step - loss: 0.3997 - acc: 0.8198 - val_loss: 0.4869 - val_acc: 0.7655\n",
            "Epoch 7/15\n",
            "39/39 [==============================] - 43s 1s/step - loss: 0.4324 - acc: 0.8093 - val_loss: 0.5095 - val_acc: 0.7296\n",
            "Epoch 8/15\n",
            "39/39 [==============================] - 45s 1s/step - loss: 0.4454 - acc: 0.8011 - val_loss: 0.4962 - val_acc: 0.7459\n",
            "Epoch 9/15\n",
            "39/39 [==============================] - 46s 1s/step - loss: 0.4015 - acc: 0.8206 - val_loss: 0.5155 - val_acc: 0.7557\n",
            "Epoch 10/15\n",
            "39/39 [==============================] - 46s 1s/step - loss: 0.3872 - acc: 0.8312 - val_loss: 0.4929 - val_acc: 0.7590\n",
            "Epoch 11/15\n",
            "39/39 [==============================] - 45s 1s/step - loss: 0.3781 - acc: 0.8352 - val_loss: 0.4943 - val_acc: 0.7492\n",
            "Epoch 12/15\n",
            "39/39 [==============================] - 45s 1s/step - loss: 0.3534 - acc: 0.8555 - val_loss: 0.4978 - val_acc: 0.7818\n",
            "Epoch 13/15\n",
            "39/39 [==============================] - 46s 1s/step - loss: 0.3661 - acc: 0.8490 - val_loss: 0.4964 - val_acc: 0.7883\n",
            "Epoch 14/15\n",
            "39/39 [==============================] - 45s 1s/step - loss: 0.3435 - acc: 0.8466 - val_loss: 0.4877 - val_acc: 0.7687\n",
            "Epoch 15/15\n",
            "39/39 [==============================] - 44s 1s/step - loss: 0.3468 - acc: 0.8515 - val_loss: 0.4896 - val_acc: 0.7557\n"
          ]
        }
      ],
      "source": [
        "steps_per_epoch = np.ceil(train_generator.samples/train_generator.batch_size)\n",
        "val_steps_per_epoch = np.ceil(valid_generator.samples/valid_generator.batch_size)\n",
        "\n",
        "hist = model.fit(\n",
        "    train_generator, \n",
        "    epochs=15,\n",
        "    verbose=1,\n",
        "    steps_per_epoch=steps_per_epoch,\n",
        "    validation_data=valid_generator,\n",
        "    validation_steps=val_steps_per_epoch).history"
      ]
    },
    {
      "cell_type": "code",
      "execution_count": 238,
      "id": "2ebc4f0c",
      "metadata": {
        "id": "2ebc4f0c",
        "outputId": "a0e047d3-9de6-432d-f6aa-388befea5fb2",
        "colab": {
          "base_uri": "https://localhost:8080/"
        }
      },
      "outputs": [
        {
          "output_type": "stream",
          "name": "stdout",
          "text": [
            "INFO:tensorflow:Assets written to: saved_model/my_model/assets\n"
          ]
        },
        {
          "output_type": "stream",
          "name": "stderr",
          "text": [
            "INFO:tensorflow:Assets written to: saved_model/my_model/assets\n"
          ]
        }
      ],
      "source": [
        "!mkdir -p saved_model\n",
        "model.save('saved_model/my_model')"
      ]
    },
    {
      "cell_type": "code",
      "execution_count": 239,
      "id": "98ee8231",
      "metadata": {
        "id": "98ee8231",
        "outputId": "503e7d0c-36ed-4071-a445-9df43144b4df",
        "colab": {
          "base_uri": "https://localhost:8080/",
          "height": 513
        }
      },
      "outputs": [
        {
          "output_type": "display_data",
          "data": {
            "text/plain": [
              "<Figure size 432x288 with 1 Axes>"
            ],
            "image/png": "[encoded data removed]"
          },
          "metadata": {
            "needs_background": "light"
          }
        },
        {
          "output_type": "display_data",
          "data": {
            "text/plain": [
              "<Figure size 432x288 with 1 Axes>"
            ],
            "image/png": "[encoded data removed]"
          },
          "metadata": {
            "needs_background": "light"
          }
        }
      ],
      "source": [
        "# accuracies\n",
        "plt.plot(hist['acc'], label='train acc')\n",
        "plt.plot(hist['val_acc'], label='val acc')\n",
        "plt.legend()\n",
        "plt.show()\n",
        "\n",
        "# loss\n",
        "plt.plot(hist['loss'], label='train loss')\n",
        "plt.plot(hist['val_loss'], label='val loss')\n",
        "plt.legend()\n",
        "plt.show()"
      ]
    },
    {
      "cell_type": "code",
      "execution_count": 240,
      "id": "c753a4fe",
      "metadata": {
        "id": "c753a4fe",
        "outputId": "5d5f1671-1868-44dd-dd31-6dde6afd289b",
        "colab": {
          "base_uri": "https://localhost:8080/"
        }
      },
      "outputs": [
        {
          "output_type": "stream",
          "name": "stdout",
          "text": [
            "crime_11.jpg\n",
            "Technology-Engineering\n",
            "engineering_01.jpg\n",
            "Technology-Engineering\n",
            "crime_10.jpg\n",
            "Technology-Engineering\n",
            "crime_09.jpg\n",
            "Technology-Engineering\n",
            "crime_07.jpg\n",
            "Technology-Engineering\n",
            "0000003.jpg\n",
            "Technology-Engineering\n",
            "0000001.jpg\n",
            "Technology-Engineering\n",
            "crime_05.jpg\n",
            "Technology-Engineering\n",
            "crime_03.jpg\n",
            "Crime-Thriller\n",
            "crime_02.jpg\n",
            "Technology-Engineering\n",
            "crime_04.jpg\n",
            "Technology-Engineering\n",
            "crime_01.jpg\n",
            "Technology-Engineering\n",
            "crime_08.jpg\n",
            "Technology-Engineering\n"
          ]
        }
      ],
      "source": [
        "CLASS_NAMES = ['Crime-Thriller', 'Technology-Engineering']\n",
        "\n",
        "new_model = tf.keras.models.load_model('saved_model/my_model')\n",
        "# print(new_model.summary())\n",
        "test_path = \"/content/testing\"\n",
        "\n",
        "for image in os.listdir(test_path):\n",
        "    if(image == '.ipynb_checkpoints'):\n",
        "        continue\n",
        "    img = cv2.imread(test_path+\"/\"+image)\n",
        "#     plt.imshow(cv2.cvtColor(img_arr, cv2.COLOR_BGR2RGB))\n",
        "#     # as opencv loads in BGR format by default, we want to show it in RGB.\n",
        "#     plt.show()\n",
        "    \n",
        "    img = cv2.resize(img,(224,224))\n",
        "    img = np.expand_dims(img,0)\n",
        "    predict = new_model.predict(img)\n",
        "    print(image)\n",
        "#     print(predict)\n",
        "    result = CLASS_NAMES[predict.argmax(axis=1)[0]]\n",
        "    print(result)"
      ]
    },
    {
      "cell_type": "code",
      "source": [
        ""
      ],
      "metadata": {
        "id": "EqlqtB4n9kny"
      },
      "id": "EqlqtB4n9kny",
      "execution_count": null,
      "outputs": []
    },
    {
      "cell_type": "code",
      "execution_count": 218,
      "id": "4a4b42e5",
      "metadata": {
        "id": "4a4b42e5",
        "outputId": "7e851ead-0ecb-4142-cd9a-f75096634ffd",
        "colab": {
          "base_uri": "https://localhost:8080/"
        }
      },
      "outputs": [
        {
          "output_type": "stream",
          "name": "stdout",
          "text": [
            "Technology-Engineering\n"
          ]
        }
      ],
      "source": [
        "CLASS_NAMES = ['Crime-Thriller', 'Technology-Engineering']\n",
        "result = CLASS_NAMES[predict.argmax(axis=1)[0]]\n",
        "print(result)"
      ]
    }
  ],
  "metadata": {
    "kernelspec": {
      "display_name": "Python 3 (ipykernel)",
      "language": "python",
      "name": "python3"
    },
    "language_info": {
      "codemirror_mode": {
        "name": "ipython",
        "version": 3
      },
      "file_extension": ".py",
      "mimetype": "text/x-python",
      "name": "python",
      "nbconvert_exporter": "python",
      "pygments_lexer": "ipython3",
      "version": "3.8.10"
    },
    "colab": {
      "name": "image_classification.ipynb",
      "provenance": []
    }
  },
  "nbformat": 4,
  "nbformat_minor": 5
}