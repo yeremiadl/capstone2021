{
  "cells": [
    {
      "cell_type": "code",
      "execution_count": 6,
      "id": "5bf8927c",
      "metadata": {
        "id": "5bf8927c"
      },
      "outputs": [],
      "source": [
        "!cd training && rm -r .ipynb_checkpoints\n",
        "# !cd training && ls -a\n",
        "#!rm -r saved_model\n"
      ]
    },
    {
      "cell_type": "code",
      "execution_count": null,
      "id": "ae729056",
      "metadata": {
        "id": "ae729056"
      },
      "outputs": [],
      "source": [
        "# import opendatasets as od\n",
        "import cv2\n",
        "import tensorflow as tf\n",
        "from tensorflow import keras\n",
        "!pip3 install tensorflow_hub\n",
        "import tensorflow_hub as hub\n",
        "import numpy as np\n",
        "import matplotlib.pyplot as plt\n",
        "import os\n"
      ]
    },
    {
      "cell_type": "code",
      "execution_count": 7,
      "id": "78691c8d",
      "metadata": {
        "id": "78691c8d"
      },
      "outputs": [],
      "source": [
        "# Defining variable\n",
        "data_root = (\"training/\")\n",
        "IMAGE_SHAPE = (224, 224) # (height, width) in no. of pixels\n",
        "TRAINING_DATA_DIR = str(data_root)\n",
        "datagen_kwargs = dict(rescale=1./255, validation_split=.20)"
      ]
    },
    {
      "cell_type": "code",
      "execution_count": 8,
      "id": "a51d6b9a",
      "metadata": {
        "id": "a51d6b9a",
        "colab": {
          "base_uri": "https://localhost:8080/"
        },
        "outputId": "43b2039c-70dd-47c9-cdaa-4e605d7f075d"
      },
      "outputs": [
        {
          "output_type": "stream",
          "name": "stdout",
          "text": [
            "Found 952 images belonging to 2 classes.\n",
            "Found 3812 images belonging to 2 classes.\n"
          ]
        }
      ],
      "source": [
        "# Split the data into validation and training\n",
        "valid_datagen = tf.keras.preprocessing.image.ImageDataGenerator(**datagen_kwargs)\n",
        "valid_generator = valid_datagen.flow_from_directory(\n",
        "TRAINING_DATA_DIR,\n",
        "subset=\"validation\",\n",
        "shuffle=True,\n",
        "target_size=IMAGE_SHAPE\n",
        ")\n",
        "\n",
        "train_datagen = tf.keras.preprocessing.image.ImageDataGenerator(**datagen_kwargs)\n",
        "train_generator = train_datagen.flow_from_directory(\n",
        "TRAINING_DATA_DIR,\n",
        "subset=\"training\",\n",
        "shuffle=True,\n",
        "target_size=IMAGE_SHAPE)"
      ]
    },
    {
      "cell_type": "code",
      "execution_count": 9,
      "id": "accfdd5e",
      "metadata": {
        "id": "accfdd5e",
        "outputId": "07286952-79bd-4095-b180-842280b28733",
        "colab": {
          "base_uri": "https://localhost:8080/"
        }
      },
      "outputs": [
        {
          "output_type": "stream",
          "name": "stdout",
          "text": [
            "{'non-science': 0, 'science': 1}\n",
            "2\n"
          ]
        }
      ],
      "source": [
        "print (train_generator.class_indices)\n",
        "print(train_generator.num_classes)"
      ]
    },
    {
      "cell_type": "code",
      "execution_count": 10,
      "id": "654c5a0b",
      "metadata": {
        "id": "654c5a0b",
        "outputId": "d8cd6926-3d07-428a-8d93-04c2303017e1",
        "colab": {
          "base_uri": "https://localhost:8080/"
        }
      },
      "outputs": [
        {
          "output_type": "stream",
          "name": "stdout",
          "text": [
            "non-science\n",
            "science"
          ]
        }
      ],
      "source": [
        "labels = '\\n'.join(sorted(train_generator.class_indices.keys()))\n",
        "with open('labels.txt', 'w') as f:\n",
        " f.write(labels)\n",
        "!cat labels.txt"
      ]
    },
    {
      "cell_type": "code",
      "source": [
        "dataset_labels = sorted(train_generator.class_indices.items(), key=lambda pair:pair[1])\n",
        "dataset_labels = np.array([key.title() for key, value in dataset_labels])\n",
        "print(dataset_labels)"
      ],
      "metadata": {
        "colab": {
          "base_uri": "https://localhost:8080/"
        },
        "id": "8O94LGzR3Uil",
        "outputId": "0848c506-d366-4782-b4c5-9e1ab5002a27"
      },
      "id": "8O94LGzR3Uil",
      "execution_count": 11,
      "outputs": [
        {
          "output_type": "stream",
          "name": "stdout",
          "text": [
            "['Non-Science' 'Science']\n"
          ]
        }
      ]
    },
    {
      "cell_type": "code",
      "execution_count": 12,
      "id": "01dea139",
      "metadata": {
        "id": "01dea139",
        "outputId": "ab349bdf-d317-4b44-b2f0-f7d7fdd7b88d",
        "colab": {
          "base_uri": "https://localhost:8080/"
        }
      },
      "outputs": [
        {
          "output_type": "stream",
          "name": "stdout",
          "text": [
            "Model: \"sequential\"\n",
            "_________________________________________________________________\n",
            " Layer (type)                Output Shape              Param #   \n",
            "=================================================================\n",
            " keras_layer (KerasLayer)    (None, 1280)              2257984   \n",
            "                                                                 \n",
            " dropout (Dropout)           (None, 1280)              0         \n",
            "                                                                 \n",
            " dense (Dense)               (None, 2)                 2562      \n",
            "                                                                 \n",
            "=================================================================\n",
            "Total params: 2,260,546\n",
            "Trainable params: 2,562\n",
            "Non-trainable params: 2,257,984\n",
            "_________________________________________________________________\n"
          ]
        }
      ],
      "source": [
        "model = tf.keras.Sequential([\n",
        " hub.KerasLayer('https://tfhub.dev/google/tf2-preview/mobilenet_v2/feature_vector/4', \n",
        " output_shape=[1280],\n",
        " trainable=False),\n",
        " tf.keras.layers.Dropout(0.4),\n",
        " tf.keras.layers.Dense(train_generator.num_classes, activation='softmax')\n",
        "])\n",
        "model.build([None, 224, 224, 3])\n",
        "model.summary()"
      ]
    },
    {
      "cell_type": "code",
      "execution_count": 13,
      "id": "7c250243",
      "metadata": {
        "id": "7c250243",
        "outputId": "12561d42-3988-48af-93a3-ac4664f3df8c",
        "colab": {
          "base_uri": "https://localhost:8080/"
        }
      },
      "outputs": [
        {
          "output_type": "stream",
          "name": "stderr",
          "text": [
            "/usr/local/lib/python3.7/dist-packages/keras/optimizer_v2/adam.py:105: UserWarning: The `lr` argument is deprecated, use `learning_rate` instead.\n",
            "  super(Adam, self).__init__(name, **kwargs)\n"
          ]
        }
      ],
      "source": [
        "optimizer = tf.keras.optimizers.Adam(lr=1e-3)\n",
        "model.compile(\n",
        " optimizer=optimizer,\n",
        " loss='categorical_crossentropy',\n",
        " metrics=['acc'])"
      ]
    },
    {
      "cell_type": "code",
      "source": [
        "model.compile(\n",
        "  optimizer=tf.keras.optimizers.Adam(),\n",
        "  loss='categorical_crossentropy',\n",
        "  metrics=['acc'])"
      ],
      "metadata": {
        "id": "yBMwKGNE3nSa"
      },
      "id": "yBMwKGNE3nSa",
      "execution_count": 14,
      "outputs": []
    },
    {
      "cell_type": "code",
      "execution_count": 15,
      "id": "a9e7aa28",
      "metadata": {
        "id": "a9e7aa28",
        "outputId": "c54693c8-c49f-43e1-bf9a-1d0c6ba6b4f2",
        "colab": {
          "base_uri": "https://localhost:8080/"
        }
      },
      "outputs": [
        {
          "output_type": "stream",
          "name": "stdout",
          "text": [
            "Epoch 1/20\n",
            "120/120 [==============================] - 121s 977ms/step - loss: 0.7835 - acc: 0.5997 - val_loss: 0.5595 - val_acc: 0.7153\n",
            "Epoch 2/20\n",
            "120/120 [==============================] - 111s 927ms/step - loss: 0.6393 - acc: 0.6734 - val_loss: 0.5621 - val_acc: 0.7174\n",
            "Epoch 3/20\n",
            "120/120 [==============================] - 112s 932ms/step - loss: 0.5946 - acc: 0.7009 - val_loss: 0.5643 - val_acc: 0.7195\n",
            "Epoch 4/20\n",
            "120/120 [==============================] - 110s 920ms/step - loss: 0.5729 - acc: 0.7120 - val_loss: 0.5468 - val_acc: 0.7216\n",
            "Epoch 5/20\n",
            "120/120 [==============================] - 111s 927ms/step - loss: 0.5730 - acc: 0.7162 - val_loss: 0.5396 - val_acc: 0.7384\n",
            "Epoch 6/20\n",
            "120/120 [==============================] - 110s 917ms/step - loss: 0.5440 - acc: 0.7298 - val_loss: 0.5453 - val_acc: 0.7342\n",
            "Epoch 7/20\n",
            "120/120 [==============================] - 112s 933ms/step - loss: 0.5570 - acc: 0.7198 - val_loss: 0.5671 - val_acc: 0.7059\n",
            "Epoch 8/20\n",
            "120/120 [==============================] - 110s 925ms/step - loss: 0.5379 - acc: 0.7390 - val_loss: 0.5294 - val_acc: 0.7332\n",
            "Epoch 9/20\n",
            "120/120 [==============================] - 111s 929ms/step - loss: 0.5359 - acc: 0.7358 - val_loss: 0.5254 - val_acc: 0.7605\n",
            "Epoch 10/20\n",
            "120/120 [==============================] - 110s 921ms/step - loss: 0.5307 - acc: 0.7369 - val_loss: 0.6088 - val_acc: 0.6870\n",
            "Epoch 11/20\n",
            "120/120 [==============================] - 111s 930ms/step - loss: 0.5484 - acc: 0.7282 - val_loss: 0.5395 - val_acc: 0.7468\n",
            "Epoch 12/20\n",
            "120/120 [==============================] - 110s 920ms/step - loss: 0.5302 - acc: 0.7314 - val_loss: 0.5505 - val_acc: 0.7342\n",
            "Epoch 13/20\n",
            "120/120 [==============================] - 110s 919ms/step - loss: 0.5228 - acc: 0.7350 - val_loss: 0.5376 - val_acc: 0.7374\n",
            "Epoch 14/20\n",
            "120/120 [==============================] - 111s 923ms/step - loss: 0.5406 - acc: 0.7343 - val_loss: 0.5779 - val_acc: 0.7206\n",
            "Epoch 15/20\n",
            "120/120 [==============================] - 111s 922ms/step - loss: 0.5265 - acc: 0.7471 - val_loss: 0.5594 - val_acc: 0.7279\n",
            "Epoch 16/20\n",
            "120/120 [==============================] - 110s 920ms/step - loss: 0.5240 - acc: 0.7455 - val_loss: 0.5557 - val_acc: 0.7311\n",
            "Epoch 17/20\n",
            "120/120 [==============================] - 111s 927ms/step - loss: 0.5388 - acc: 0.7322 - val_loss: 0.5548 - val_acc: 0.7153\n",
            "Epoch 18/20\n",
            "120/120 [==============================] - 111s 923ms/step - loss: 0.5353 - acc: 0.7382 - val_loss: 0.5592 - val_acc: 0.7174\n",
            "Epoch 19/20\n",
            "120/120 [==============================] - 111s 923ms/step - loss: 0.5339 - acc: 0.7429 - val_loss: 0.5241 - val_acc: 0.7468\n",
            "Epoch 20/20\n",
            "120/120 [==============================] - 110s 926ms/step - loss: 0.5396 - acc: 0.7387 - val_loss: 0.5480 - val_acc: 0.7258\n"
          ]
        }
      ],
      "source": [
        "steps_per_epoch = np.ceil(train_generator.samples/train_generator.batch_size)\n",
        "val_steps_per_epoch = np.ceil(valid_generator.samples/valid_generator.batch_size)\n",
        "\n",
        "hist = model.fit(\n",
        "    train_generator, \n",
        "    epochs=20,\n",
        "    verbose=1,\n",
        "    steps_per_epoch=steps_per_epoch,\n",
        "    validation_data=valid_generator,\n",
        "    validation_steps=val_steps_per_epoch).history"
      ]
    },
    {
      "cell_type": "code",
      "execution_count": 16,
      "id": "2ebc4f0c",
      "metadata": {
        "id": "2ebc4f0c",
        "outputId": "ad65f479-4c8f-4e6c-dcb0-8b39ce51c186",
        "colab": {
          "base_uri": "https://localhost:8080/"
        }
      },
      "outputs": [
        {
          "output_type": "stream",
          "name": "stdout",
          "text": [
            "INFO:tensorflow:Assets written to: saved_model/my_model/assets\n"
          ]
        },
        {
          "output_type": "stream",
          "name": "stderr",
          "text": [
            "INFO:tensorflow:Assets written to: saved_model/my_model/assets\n"
          ]
        }
      ],
      "source": [
        "!mkdir -p saved_model\n",
        "model.save('saved_model/my_model')"
      ]
    },
    {
      "cell_type": "code",
      "execution_count": 17,
      "id": "98ee8231",
      "metadata": {
        "id": "98ee8231",
        "outputId": "073fbec5-3590-4df5-b405-72e347907fb4",
        "colab": {
          "base_uri": "https://localhost:8080/",
          "height": 513
        }
      },
      "outputs": [
        {
          "output_type": "display_data",
          "data": {
            "text/plain": [
              "<Figure size 432x288 with 1 Axes>"
            ],
            "image/png": "[encoded data removed]"
          },
          "metadata": {
            "needs_background": "light"
          }
        },
        {
          "output_type": "display_data",
          "data": {
            "text/plain": [
              "<Figure size 432x288 with 1 Axes>"
            ],
            "image/png": "[encoded data removed]"
          },
          "metadata": {
            "needs_background": "light"
          }
        }
      ],
      "source": [
        "# accuracies\n",
        "plt.plot(hist['acc'], label='train acc')\n",
        "plt.plot(hist['val_acc'], label='val acc')\n",
        "plt.legend()\n",
        "plt.show()\n",
        "\n",
        "# loss\n",
        "plt.plot(hist['loss'], label='train loss')\n",
        "plt.plot(hist['val_loss'], label='val loss')\n",
        "plt.legend()\n",
        "plt.show()"
      ]
    },
    {
      "cell_type": "code",
      "execution_count": 20,
      "id": "c753a4fe",
      "metadata": {
        "id": "c753a4fe",
        "outputId": "78599ebb-9761-4ae4-f40c-a3a4d9466f0a",
        "colab": {
          "base_uri": "https://localhost:8080/"
        }
      },
      "outputs": [
        {
          "output_type": "stream",
          "name": "stdout",
          "text": [
            "crime_01.jpg\n",
            "Science\n",
            "non (1).jpg\n",
            "Science\n",
            "non (4).jpg\n",
            "Science\n",
            "crime_06.jpg\n",
            "Science\n",
            "crime_02.jpg\n",
            "Science\n",
            "crime_03.jpg\n",
            "Non-Science\n",
            "non (5).jpg\n",
            "Non-Science\n",
            "crime_05.jpg\n",
            "Science\n",
            "non (3).jpg\n",
            "Science\n",
            "crime_08.jpg\n",
            "Science\n",
            "crime_04.jpg\n",
            "Science\n",
            "non (2).jpg\n",
            "Science\n",
            "non (8).jpg\n",
            "Science\n",
            "crime_07.jpg\n",
            "Non-Science\n",
            "crime_09.jpg\n",
            "Science\n",
            "non (6).jpg\n",
            "Science\n",
            "non (7).jpg\n",
            "Science\n",
            "crime_10.jpg\n",
            "Non-Science\n",
            "engineering_01.jpg\n",
            "Science\n",
            "crime_11.jpg\n",
            "Science\n",
            "non (9).jpg\n",
            "Science\n"
          ]
        }
      ],
      "source": [
        "CLASS_NAMES = ['Non-Science', 'Science']\n",
        "\n",
        "new_model = tf.keras.models.load_model('saved_model/my_model')\n",
        "# print(new_model.summary())\n",
        "test_path = \"/content/testing\"\n",
        "\n",
        "for image in os.listdir(test_path):\n",
        "    if(image == '.ipynb_checkpoints'):\n",
        "        continue\n",
        "    img = cv2.imread(test_path+\"/\"+image)\n",
        "#     plt.imshow(cv2.cvtColor(img_arr, cv2.COLOR_BGR2RGB))\n",
        "#     # as opencv loads in BGR format by default, we want to show it in RGB.\n",
        "#     plt.show()\n",
        "    \n",
        "    img = cv2.resize(img,(224,224))\n",
        "    img = np.expand_dims(img,0)\n",
        "    predict = new_model.predict(img)\n",
        "    print(image)\n",
        "#     print(predict)\n",
        "    result = CLASS_NAMES[predict.argmax(axis=1)[0]]\n",
        "    print(result)"
      ]
    },
    {
      "cell_type": "code",
      "source": [
        ""
      ],
      "metadata": {
        "id": "EqlqtB4n9kny"
      },
      "id": "EqlqtB4n9kny",
      "execution_count": 20,
      "outputs": []
    },
    {
      "cell_type": "code",
      "execution_count": 21,
      "id": "4a4b42e5",
      "metadata": {
        "id": "4a4b42e5",
        "outputId": "04b9ae23-c91b-4c95-a5e6-08af2d9d9c33",
        "colab": {
          "base_uri": "https://localhost:8080/"
        }
      },
      "outputs": [
        {
          "output_type": "stream",
          "name": "stdout",
          "text": [
            "Science\n"
          ]
        }
      ],
      "source": [
        "CLASS_NAMES = ['Non-science', 'Science']\n",
        "result = CLASS_NAMES[predict.argmax(axis=1)[0]]\n",
        "print(result)"
      ]
    }
  ],
  "metadata": {
    "kernelspec": {
      "display_name": "Python 3 (ipykernel)",
      "language": "python",
      "name": "python3"
    },
    "language_info": {
      "codemirror_mode": {
        "name": "ipython",
        "version": 3
      },
      "file_extension": ".py",
      "mimetype": "text/x-python",
      "name": "python",
      "nbconvert_exporter": "python",
      "pygments_lexer": "ipython3",
      "version": "3.8.10"
    },
    "colab": {
      "name": "image_classification.ipynb",
      "provenance": [],
      "collapsed_sections": []
    }
  },
  "nbformat": 4,
  "nbformat_minor": 5
}